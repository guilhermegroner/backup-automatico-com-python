{
 "cells": [
  {
   "cell_type": "code",
   "execution_count": 11,
   "id": "fe9e2862",
   "metadata": {},
   "outputs": [
    {
     "data": {
      "text/plain": [
       "'OK'"
      ]
     },
     "execution_count": 11,
     "metadata": {},
     "output_type": "execute_result"
    }
   ],
   "source": [
    "import pyautogui\n",
    "import time\n",
    "\n",
    "pyautogui.alert('Backup automático vai ser inicializado')\n",
    "pyautogui.PAUSE = 0.5\n",
    "\n",
    "# abrir o google driver\n",
    "pyautogui.press('winleft')\n",
    "pyautogui.write('google chrome')\n",
    "pyautogui.press('enter')\n",
    "time.sleep(1)\n",
    "pyautogui.write('https://drive.google.com/drive/u/0/my-drive')\n",
    "pyautogui.press('enter')\n",
    "\n",
    "# ir para a área de trabalho\n",
    "pyautogui.hotkey('winleft', 'd')\n",
    "\n",
    "# selecionar o arquivo e arrastar ele\n",
    "pyautogui.moveTo(108, 200)\n",
    "pyautogui.mouseDown()\n",
    "pyautogui.moveTo(923, 598)\n",
    "\n",
    "# selecionar a pagina do driver\n",
    "pyautogui.hotkey('alt', 'tab')\n",
    "time.sleep(1)\n",
    "\n",
    "# soltar o arquivo\n",
    "pyautogui.mouseUp()\n",
    "\n",
    "# aguardar o upload do arquivo\n",
    "time.sleep(5)\n",
    "\n",
    "pyautogui.alert('Backup automático finalizado')\n",
    "\n",
    "\n",
    "\n",
    "\n",
    "\n",
    "\n",
    "\n",
    "\n"
   ]
  },
  {
   "cell_type": "code",
   "execution_count": 10,
   "id": "c9d2d7e5",
   "metadata": {},
   "outputs": [
    {
     "data": {
      "text/plain": [
       "Point(x=650, y=203)"
      ]
     },
     "execution_count": 10,
     "metadata": {},
     "output_type": "execute_result"
    }
   ],
   "source": [
    "pyautogui.position()"
   ]
  },
  {
   "cell_type": "code",
   "execution_count": null,
   "id": "5430abb2",
   "metadata": {},
   "outputs": [],
   "source": []
  }
 ],
 "metadata": {
  "kernelspec": {
   "display_name": "Python 3 (ipykernel)",
   "language": "python",
   "name": "python3"
  },
  "language_info": {
   "codemirror_mode": {
    "name": "ipython",
    "version": 3
   },
   "file_extension": ".py",
   "mimetype": "text/x-python",
   "name": "python",
   "nbconvert_exporter": "python",
   "pygments_lexer": "ipython3",
   "version": "3.9.12"
  }
 },
 "nbformat": 4,
 "nbformat_minor": 5
}
